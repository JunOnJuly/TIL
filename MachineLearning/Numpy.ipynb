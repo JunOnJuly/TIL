{
 "cells": [
  {
   "cell_type": "code",
   "execution_count": 36,
   "id": "3bd7567a",
   "metadata": {},
   "outputs": [],
   "source": [
    "import numpy as np\n",
    "import random\n",
    "import matplotlib.pyplot as plt"
   ]
  },
  {
   "cell_type": "code",
   "execution_count": 37,
   "id": "ca1288cf",
   "metadata": {},
   "outputs": [],
   "source": [
    "def calculate_y(points_x, points_num, value_num, values):\n",
    "    points_y = []\n",
    "    for i in range(points_num):\n",
    "        calculate_temp = 0\n",
    "        for j in range(value_num):\n",
    "            calculate_temp += values[j] * (points_x[i] ** j)\n",
    "        points_y.append(calculate_temp)\n",
    "    return points_y"
   ]
  },
  {
   "cell_type": "code",
   "execution_count": null,
   "id": "3bf6c36c",
   "metadata": {},
   "outputs": [],
   "source": [
    "def cal_loss(points_x, points_y_temp, points_y_scaled, values_temp, value_num, points_num):\n",
    "    for i in range(points_num):\n",
    "        x_sum = 0\n",
    "        for j in range(value_num):\n",
    "            x_sum += (points_num[i]**j) * value_num[j]\n",
    "        "
   ]
  },
  {
   "cell_type": "code",
   "execution_count": null,
   "id": "247ae038",
   "metadata": {},
   "outputs": [],
   "source": [
    "def cal_values(value_num, alpha, points_x, points_y_scaled, points_num):\n",
    "    values_temp = np.ones(value_num)\n",
    "    points_y_temp = calculate_y(points_x, points_num, value_num, values_temp)"
   ]
  },
  {
   "cell_type": "code",
   "execution_count": 107,
   "id": "2f03de00",
   "metadata": {},
   "outputs": [],
   "source": [
    "def make_random_points(points_num, x_range, value_num, value_range):\n",
    "    values = [random.randint(-value_range, value_range) for i in range(value_num)]\n",
    "    \n",
    "    points_x = random.sample(range(x_range+1), k=points_num)\n",
    "    points_y = calculate_y(points_x, points_num, value_num, values)\n",
    "    points_y_scaled = []\n",
    "    for i in range(points_num):\n",
    "        points_y_scaled.append(points_y[i] * (1+random.gauss(mu=0.0, sigma=1)))\n",
    "    return np.array(points_x), np.array(points_y), np.array(points_y_scaled)"
   ]
  },
  {
   "cell_type": "code",
   "execution_count": 108,
   "id": "b322f9c7",
   "metadata": {},
   "outputs": [
    {
     "data": {
      "text/plain": [
       "[<matplotlib.lines.Line2D at 0x1cc4184fd60>]"
      ]
     },
     "execution_count": 108,
     "metadata": {},
     "output_type": "execute_result"
    },
    {
     "data": {
      "image/png": "[encoded data removed]",
      "text/plain": [
       "<Figure size 432x288 with 1 Axes>"
      ]
     },
     "metadata": {
      "needs_background": "light"
     },
     "output_type": "display_data"
    }
   ],
   "source": [
    "points_num = 100\n",
    "x_range = 1000\n",
    "value_num = 4\n",
    "value_range = 3\n",
    "\n",
    "points_x, points_y, points_y_scaled = make_random_points(points_num, x_range, value_num, value_range)\n",
    "\n",
    "plt.plot(points_x, points_y_scaled, '.')\n",
    "plt.plot(points_x, points_y, '.')"
   ]
  }
 ],
 "metadata": {
  "kernelspec": {
   "display_name": "Python 3",
   "language": "python",
   "name": "python3"
  },
  "language_info": {
   "codemirror_mode": {
    "name": "ipython",
    "version": 3
   },
   "file_extension": ".py",
   "mimetype": "text/x-python",
   "name": "python",
   "nbconvert_exporter": "python",
   "pygments_lexer": "ipython3",
   "version": "3.8.8"
  }
 },
 "nbformat": 4,
 "nbformat_minor": 5
}
