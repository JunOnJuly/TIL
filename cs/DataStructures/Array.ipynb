{
 "cells": [
  {
   "cell_type": "markdown",
   "id": "ca986274",
   "metadata": {},
   "source": [
    "# Array\n",
    "#### 파이썬은 기본적으로 Array를 지원하지 않지만 Numpy 라이브러리를 사용하면 Array 를 사용할 수 있다.\n",
    "---"
   ]
  },
  {
   "cell_type": "markdown",
   "id": "e89c56e6",
   "metadata": {},
   "source": [
    "### 동일한 메모리 크기의 요소 모음으로 구성된 데이터 구조\n",
    "* ### int면 int, float 이면 float "
   ]
  },
  {
   "cell_type": "code",
   "execution_count": 5,
   "id": "a1fb2c5f",
   "metadata": {},
   "outputs": [],
   "source": [
    "import numpy as np"
   ]
  },
  {
   "cell_type": "code",
   "execution_count": 6,
   "id": "4a786f71",
   "metadata": {},
   "outputs": [],
   "source": [
    "A = np.array([0, 1, 2, 3])\n",
    "B = np.array([0, 1.1, 2])"
   ]
  },
  {
   "cell_type": "code",
   "execution_count": 7,
   "id": "568d1f81",
   "metadata": {},
   "outputs": [
    {
     "name": "stdout",
     "output_type": "stream",
     "text": [
      "A 의 데이터 타입은 int32 입니다\n",
      "B 의 데이터 타입은 float64 입니다\n",
      "C 의 데이터 타입은 <U1 입니다\n"
     ]
    }
   ],
   "source": [
    "for arr in zip(['A', 'B', 'C'], [A, B, C]):\n",
    "    print(f'{arr[0]} 의 데이터 타입은 {arr[1].dtype} 입니다')"
   ]
  },
  {
   "cell_type": "markdown",
   "id": "17ad0af4",
   "metadata": {},
   "source": [
    "#### -> B 는 int 와 float 을 같이 저장했지만 자동으로 float으로 변환되어 저장된다\n",
    "---"
   ]
  },
  {
   "cell_type": "markdown",
   "id": "1c7eba27",
   "metadata": {},
   "source": [
    "### 정해진 길이의 연속적인 배열\n",
    "* ### array 생성 시 연속된 메모리 공간 할당, 정해진 길이를 넘어서는 아이템을 저장할 수 없다."
   ]
  },
  {
   "cell_type": "code",
   "execution_count": 8,
   "id": "a150f564",
   "metadata": {
    "scrolled": false
   },
   "outputs": [
    {
     "name": "stdout",
     "output_type": "stream",
     "text": [
      "A 의 0 번째 요소의 메모리 주소는 2317126005920 입니다\n",
      "↑\n",
      "160 차이\n",
      "↓\n",
      "A 의 1 번째 요소의 메모리 주소는 2317126006080 입니다\n",
      "↑\n",
      "160 차이\n",
      "↓\n",
      "A 의 2 번째 요소의 메모리 주소는 2317126006240 입니다\n",
      "↑\n",
      "160 차이\n",
      "↓\n",
      "A 의 3 번째 요소의 메모리 주소는 2317126006400 입니다\n"
     ]
    }
   ],
   "source": [
    "for arr in zip(['A'], [A]):\n",
    "    for idx, item in enumerate(arr[1]):\n",
    "        mem_add = int(str(item.data).split(' ')[2][:-1], 16)\n",
    "        \n",
    "        if idx:\n",
    "            print('↑')\n",
    "            print(f'{abs(pre_mem_add - mem_add)} 차이')\n",
    "            print('↓')\n",
    "            \n",
    "        print(f\"{arr[0]} 의 {idx} 번째 요소의 메모리 주소는 {mem_add} 입니다\")\n",
    "        \n",
    "        pre_mem_add = mem_add"
   ]
  },
  {
   "cell_type": "markdown",
   "id": "e7e6bb26",
   "metadata": {},
   "source": [
    "#### -> 메모리 주소가 일정수치만큼 동일하게 떨어져 있음을 알 수 있다\n",
    "---"
   ]
  },
  {
   "cell_type": "markdown",
   "id": "bead7dd0",
   "metadata": {},
   "source": [
    "### Array 사용의 장점과 단점\n",
    "#### 이점\n",
    "* ##### cache locality 로 인해 좀더 퍼포먼스가 좋다\n",
    "* ##### 임의 요소에 대한 순차적 접근이 아닌 임의적 접근이 가능해 요소에 빠른 접근이 가능하다\n",
    "#### 단점\n",
    "* ##### 배열에 저장할 요소의 수를 미리 알고 있어야 한다\n",
    "* ##### 정적 구조이기 대문에 선언된 배열의 크기를 수정할 수 없고 할당된 메모리를 늘리거나 줄일 수 없다\n",
    "* ##### 배열에서 삽입 및 삭제가 어렵다\n",
    "---"
   ]
  },
  {
   "cell_type": "markdown",
   "id": "ad96b4e1",
   "metadata": {},
   "source": [
    "### 사용처\n",
    "* 행렬 문제 해결에 주로 사용된다\n",
    "* 데이터 베이스의 구현에 사용된다\n",
    "* 정렬 알고리즘 구현에 도움이 된다\n",
    "* 다른 데이터 구조를 구현하는데 사용된다"
   ]
  },
  {
   "cell_type": "markdown",
   "id": "424dc04c",
   "metadata": {},
   "source": [
    "참고\\\n",
    "https://www.geeksforgeeks.org/what-is-array/ - 배열\\\n",
    "https://stackoverflow.com/questions/43126147/random-access-in-array - 임의 요소에 대한 접근\\\n",
    "https://www.faceprep.in/data-structures/advantages-and-disadvantages-of-arrays/ - 배열의 장단점\\"
   ]
  }
 ],
 "metadata": {
  "kernelspec": {
   "display_name": "Python 3 (ipykernel)",
   "language": "python",
   "name": "python3"
  },
  "language_info": {
   "codemirror_mode": {
    "name": "ipython",
    "version": 3
   },
   "file_extension": ".py",
   "mimetype": "text/x-python",
   "name": "python",
   "nbconvert_exporter": "python",
   "pygments_lexer": "ipython3",
   "version": "3.8.16"
  }
 },
 "nbformat": 4,
 "nbformat_minor": 5
}
